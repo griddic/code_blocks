{
 "cells": [
  {
   "cell_type": "markdown",
   "metadata": {},
   "source": [
    "## 1) Создайте класс Person со свойствами height (рост), weight (вес), name (имя)."
   ]
  },
  {
   "cell_type": "code",
   "execution_count": 1,
   "metadata": {},
   "outputs": [],
   "source": [
    "open class Person(val height: Int, val weight: Int, val name: String)"
   ]
  },
  {
   "cell_type": "markdown",
   "metadata": {},
   "source": [
    "## 2) Создайте два объекта класса Person с полностью одинаковыми параметрами.\n",
    "\n",
    "## 3) Добавьте два объекта в HashSet.\n",
    "\n",
    "## 4) Выведите количество итоговых элементов в HashSet."
   ]
  },
  {
   "cell_type": "code",
   "execution_count": 2,
   "metadata": {},
   "outputs": [
    {
     "name": "stdout",
     "output_type": "stream",
     "text": [
      "2\n"
     ]
    }
   ],
   "source": [
    "var person1 = Person(177, 88, \"griddic\")\n",
    "var person2 = Person(177, 88, \"griddic\")\n",
    "\n",
    "var setOfPersons = hashSetOf(person1, person2)\n",
    "\n",
    "println(setOfPersons.size)"
   ]
  },
  {
   "cell_type": "markdown",
   "metadata": {},
   "source": [
    "## 5) Сделайте так, чтобы в HashSet в итоге был один объект. Для этого реализуйте методы equals, hashcode. Для реализации методов воспользуйтесь автоматической генерацией кода в Android Studio. В этих методах должны учитываться все свойства класса Person: height, weight, name."
   ]
  },
  {
   "cell_type": "code",
   "execution_count": 3,
   "metadata": {},
   "outputs": [
    {
     "name": "stdout",
     "output_type": "stream",
     "text": [
      "1\n"
     ]
    }
   ],
   "source": [
    "open class PersonStage5(height: Int, weight: Int, name: String) : Person(height, weight, name) {\n",
    "    override fun equals(other: Any?): Boolean {\n",
    "        if (this === other) return true\n",
    "        if (javaClass != other?.javaClass) return false\n",
    "\n",
    "        other as Person\n",
    "\n",
    "        if (height != other.height) return false\n",
    "        if (weight != other.weight) return false\n",
    "        if (name != other.name) return false\n",
    "\n",
    "        return true\n",
    "    }\n",
    "\n",
    "    override fun hashCode(): Int {\n",
    "        var result = height\n",
    "        result = 31 * result + weight\n",
    "        result = 31 * result + name.hashCode()\n",
    "        return result\n",
    "    }\n",
    "}\n",
    "\n",
    "person1 = PersonStage5(177, 88, \"griddic\")\n",
    "person2 = PersonStage5(177, 88, \"griddic\")\n",
    "\n",
    "setOfPersons = hashSetOf(person1, person2)\n",
    "println(setOfPersons.size)"
   ]
  },
  {
   "cell_type": "markdown",
   "metadata": {},
   "source": [
    "## 6) Добавьте ещё один объект Person в HashSet, отличающийся от первых двух.\n",
    "\n",
    "## 7) Выведите содержимое HashSet в консоль. Для этого реализуйте метод toString в классе Person. И с помощью forEach выведите всех пользователей c их свойствами в консоль."
   ]
  },
  {
   "cell_type": "code",
   "execution_count": 4,
   "metadata": {},
   "outputs": [
    {
     "name": "stdout",
     "output_type": "stream",
     "text": [
      "Person(height=177, weight=88, name='griddic')\n",
      "Person(height=177, weight=88, name='Vaako')\n"
     ]
    }
   ],
   "source": [
    "open class PersonStage7(height: Int, weight: Int, name: String) : PersonStage5(height, weight, name) {\n",
    "    override fun toString(): String {\n",
    "        return \"Person(height=$height, weight=$weight, name='$name')\"\n",
    "    }\n",
    "}\n",
    "\n",
    "person1 = PersonStage7(177, 88, \"griddic\")\n",
    "person2 = PersonStage7(177, 88, \"griddic\")\n",
    "var person3 = PersonStage7(177, 88, \"Vaako\")\n",
    "\n",
    "setOfPersons = hashSetOf(person1, person2, person3)\n",
    "\n",
    "setOfPersons.forEach { println(it) }"
   ]
  },
  {
   "cell_type": "markdown",
   "metadata": {},
   "source": [
    "## 8) Создайте data class Animal с полями energy, weight, name."
   ]
  },
  {
   "cell_type": "code",
   "execution_count": 5,
   "metadata": {},
   "outputs": [],
   "source": [
    "data class Animal(val energy: Int, val weight: Int, val name: String)"
   ]
  },
  {
   "cell_type": "markdown",
   "metadata": {},
   "source": [
    "## 9) Добавьте в класс Person поле pets, которое хранит hashSet домашних животных типа Animal.\n",
    "\n",
    "## 10) Добавьте метод buyPet(), который создаёт объект класса Animal, проинициализированный случайными значениями полей, и добавляет его в pets.\n",
    "\n",
    "## 11) Перегенерируйте методы equals, hashcode, toString с учётом нового поля pets."
   ]
  },
  {
   "cell_type": "code",
   "execution_count": 6,
   "metadata": {},
   "outputs": [],
   "source": [
    "import kotlin.random.Random\n",
    "\n",
    "open class PersonStage9(height: Int, weight: Int, name: String) : PersonStage7(height, weight, name) {\n",
    "    open val pets = hashSetOf<Animal>()\n",
    "    \n",
    "    fun buyPet() {\n",
    "        // Проигнорируем возможные коллизии. \n",
    "        pets.add(Animal(\n",
    "                Random.nextInt(100) + 30,\n",
    "                Random.nextInt(10) + 1,\n",
    "                java.util.UUID.randomUUID().toString().substring(0, 5),\n",
    "        ))\n",
    "    }\n",
    "    \n",
    "    override fun equals(other: Any?): Boolean {\n",
    "        if (this === other) return true\n",
    "        if (javaClass != other?.javaClass) return false\n",
    "\n",
    "        other as PersonStage9\n",
    "\n",
    "        if (height != other.height) return false\n",
    "        if (weight != other.weight) return false\n",
    "        if (name != other.name) return false\n",
    "        if (pets != other.pets) return false\n",
    "\n",
    "        return true\n",
    "    }\n",
    "\n",
    "    override fun hashCode(): Int {\n",
    "        var result = height\n",
    "        result = 31 * result + weight\n",
    "        result = 31 * result + name.hashCode()\n",
    "        result = 31 * result + pets.hashCode()\n",
    "        return result\n",
    "    }\n",
    "\n",
    "    override fun toString(): String {\n",
    "        return \"Person(height=$height, weight=$weight, name='$name', pets=$pets)\"\n",
    "    }\n",
    "}"
   ]
  },
  {
   "cell_type": "markdown",
   "metadata": {},
   "source": [
    "## 12) С помощью делегированных свойств сделайте так, чтобы при добавлении домашнего животного в консоль печаталось имя персоны и её список домашних животных. Для этого используйте класс ReadOnlyProperty.\n"
   ]
  },
  {
   "cell_type": "code",
   "execution_count": 7,
   "metadata": {},
   "outputs": [],
   "source": [
    "import kotlin.properties.ReadOnlyProperty\n",
    "import kotlin.reflect.KProperty\n",
    "\n",
    "class ReadOnlyPetsDelegate(val pets: HashSet<Animal>): ReadOnlyProperty <Person, HashSet<Animal>> {\n",
    "    override fun getValue(thisRef: Person, property: KProperty<*>): HashSet<Animal> {\n",
    "        with(thisRef) {\n",
    "            println(\"$name : $pets\")\n",
    "            return pets\n",
    "        }\n",
    "    }\n",
    "}\n",
    "\n",
    "class PersonStage12(height: Int, weight: Int, name: String) : PersonStage9(height, weight, name) {\n",
    "    override val pets by ReadOnlyPetsDelegate(hashSetOf())\n",
    "    \n",
    "    constructor(other: Person): this(other.height, other.weight, other.name) {\n",
    "        if (other is PersonStage9) {\n",
    "            other.pets.forEach { pets.add(it) }\n",
    "        }\n",
    "    }\n",
    "}\n"
   ]
  },
  {
   "cell_type": "markdown",
   "metadata": {},
   "source": [
    "## 13) Для каждой персоны из пункта 6 купите несколько домашних животных, проверьте, что в лог корректно выводится список домашних животных при обращении к полю pets."
   ]
  },
  {
   "cell_type": "code",
   "execution_count": 8,
   "metadata": {},
   "outputs": [
    {
     "name": "stdout",
     "output_type": "stream",
     "text": [
      "griddic : []\n",
      "griddic : []\n",
      "Vaako : []\n",
      "griddic : [Animal(energy=103, weight=3, name=d033d)]\n",
      "griddic : [Animal(energy=105, weight=3, name=75fce)]\n",
      "Vaako : [Animal(energy=99, weight=10, name=9fd2c)]\n",
      "griddic : [Animal(energy=49, weight=10, name=2c800), Animal(energy=103, weight=3, name=d033d)]\n",
      "griddic : [Animal(energy=47, weight=8, name=ed513), Animal(energy=105, weight=3, name=75fce)]\n",
      "Vaako : [Animal(energy=99, weight=10, name=9fd2c), Animal(energy=63, weight=4, name=36248)]\n",
      "griddic : [Animal(energy=49, weight=10, name=2c800), Animal(energy=107, weight=10, name=535fe), Animal(energy=103, weight=3, name=d033d)]\n",
      "griddic : [Animal(energy=47, weight=8, name=ed513), Animal(energy=105, weight=3, name=75fce), Animal(energy=103, weight=7, name=d91b1)]\n",
      "Vaako : [Animal(energy=99, weight=10, name=9fd2c), Animal(energy=63, weight=4, name=36248), Animal(energy=99, weight=10, name=6903f)]\n"
     ]
    }
   ],
   "source": [
    "val person1Stage12 = PersonStage12(person1)\n",
    "val person2Stage12 = PersonStage12(person2)\n",
    "val person3Stage12 = PersonStage12(person3)\n",
    "\n",
    "repeat(Random.nextInt(4) + 2){\n",
    "    person1Stage12.buyPet()\n",
    "    person2Stage12.buyPet()\n",
    "    person3Stage12.buyPet()\n",
    "}"
   ]
  },
  {
   "cell_type": "code",
   "execution_count": 9,
   "metadata": {},
   "outputs": [
    {
     "name": "stdout",
     "output_type": "stream",
     "text": [
      "griddic : [Animal(energy=49, weight=10, name=2c800), Animal(energy=107, weight=10, name=535fe), Animal(energy=103, weight=3, name=d033d), Animal(energy=64, weight=6, name=5dca3)]\n"
     ]
    }
   ],
   "source": [
    "var dummyString = person1Stage12.pets"
   ]
  },
  {
   "cell_type": "code",
   "execution_count": 10,
   "metadata": {},
   "outputs": [
    {
     "name": "stdout",
     "output_type": "stream",
     "text": [
      "griddic : [Animal(energy=47, weight=8, name=ed513), Animal(energy=105, weight=3, name=75fce), Animal(energy=95, weight=3, name=c01c1), Animal(energy=103, weight=7, name=d91b1)]\n"
     ]
    }
   ],
   "source": [
    "dummyString = person2Stage12.pets"
   ]
  },
  {
   "cell_type": "code",
   "execution_count": 11,
   "metadata": {},
   "outputs": [
    {
     "name": "stdout",
     "output_type": "stream",
     "text": [
      "Vaako : [Animal(energy=126, weight=1, name=6562e), Animal(energy=99, weight=10, name=9fd2c), Animal(energy=63, weight=4, name=36248), Animal(energy=99, weight=10, name=6903f)]\n"
     ]
    }
   ],
   "source": [
    "dummyString = person3Stage12.pets"
   ]
  },
  {
   "cell_type": "code",
   "execution_count": null,
   "metadata": {},
   "outputs": [],
   "source": []
  }
 ],
 "metadata": {
  "kernelspec": {
   "display_name": "Kotlin",
   "language": "kotlin",
   "name": "kotlin"
  },
  "language_info": {
   "codemirror_mode": "text/x-kotlin",
   "file_extension": ".kt",
   "mimetype": "text/x-kotlin",
   "name": "kotlin",
   "pygments_lexer": "kotlin",
   "version": "1.4.30-dev-3354"
  }
 },
 "nbformat": 4,
 "nbformat_minor": 4
}
